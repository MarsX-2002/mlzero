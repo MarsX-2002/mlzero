{
 "cells": [
  {
   "cell_type": "markdown",
   "metadata": {},
   "source": [
    "# Python Basics for Machine Learning\n",
    "\n",
    "Welcome to your first notebook! This notebook will cover essential Python concepts for ML/AI."
   ]
  },
  {
   "cell_type": "markdown",
   "metadata": {},
   "source": [
    "## 1. Basic Python Data Structures\n",
    "\n",
    "Let's start with the fundamental data structures you'll use in ML:"
   ]
  },
  {
   "cell_type": "code",
   "execution_count": null,
   "metadata": {},
   "outputs": [],
   "source": [
    "# Lists - ordered, mutable sequences\n",
    "numbers = [1, 2, 3, 4, 5]\n",
    "print(f\"List: {numbers}\")\n",
    "\n",
    "# Dictionaries - key-value pairs\n",
    "person = {\n",
    "    'name': 'John',\n",
    "    'age': 25,\n",
    "    'skills': ['Python', 'ML']\n",
    "}\n",
    "print(f\"\\nDictionary: {person}\")\n",
    "\n",
    "# NumPy arrays - efficient numerical operations\n",
    "import numpy as np\n",
    "array = np.array([1, 2, 3, 4, 5])\n",
    "print(f\"\\nNumPy array: {array}\")\n",
    "print(f\"Array mean: {array.mean()}\")"
   ]
  },
  {
   "cell_type": "markdown",
   "metadata": {},
   "source": [
    "## 2. Essential Libraries\n",
    "\n",
    "Let's explore the basic ML/AI libraries:"
   ]
  },
  {
   "cell_type": "code",
   "execution_count": null,
   "metadata": {},
   "outputs": [],
   "source": [
    "# NumPy - numerical computing\n",
    "import numpy as np\n",
    "\n",
    "# Pandas - data manipulation\n",
    "import pandas as pd\n",
    "\n",
    "# Matplotlib - visualization\n",
    "import matplotlib.pyplot as plt\n",
    "\n",
    "# Create sample data\n",
    "data = {\n",
    "    'x': np.random.randn(100),\n",
    "    'y': np.random.randn(100)\n",
    "}\n",
    "df = pd.DataFrame(data)\n",
    "\n",
    "# Create a scatter plot\n",
    "plt.figure(figsize=(8, 6))\n",
    "plt.scatter(df['x'], df['y'])\n",
    "plt.title('Sample Scatter Plot')\n",
    "plt.xlabel('X')\n",
    "plt.ylabel('Y')\n",
    "plt.show()"
   ]
  },
  {
   "cell_type": "code",
   "execution_count": null,
   "metadata": {},
   "outputs": [],
   "source": []
  }
 ],
 "metadata": {
  "kernelspec": {
   "display_name": "venv",
   "language": "python",
   "name": "python3"
  },
  "language_info": {
   "codemirror_mode": {
    "name": "ipython",
    "version": 3
   },
   "file_extension": ".py",
   "mimetype": "text/x-python",
   "name": "python",
   "nbconvert_exporter": "python",
   "pygments_lexer": "ipython3",
   "version": "3.12.6"
  }
 },
 "nbformat": 4,
 "nbformat_minor": 4
}
