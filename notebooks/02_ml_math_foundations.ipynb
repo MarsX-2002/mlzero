{
 "cells": [
  {
   "cell_type": "markdown",
   "metadata": {},
   "source": [
    "# Mathematics for Machine Learning\n",
    "\n",
    "This notebook covers essential mathematical concepts for ML/AI:\n",
    "1. Linear Algebra\n",
    "2. Calculus\n",
    "3. Statistics & Probability"
   ]
  },
  {
   "cell_type": "markdown",
   "metadata": {},
   "source": [
    "## 1. Linear Algebra with NumPy\n",
    "\n",
    "Let's explore vectors, matrices, and operations:"
   ]
  },
  {
   "cell_type": "code",
   "execution_count": null,
   "metadata": {},
   "outputs": [],
   "source": [
    "import numpy as np\n",
    "\n",
    "# Vectors\n",
    "v1 = np.array([1, 2, 3])\n",
    "v2 = np.array([4, 5, 6])\n",
    "\n",
    "print(\"Vector operations:\")\n",
    "print(f\"v1 + v2 = {v1 + v2}\")\n",
    "print(f\"Dot product: {np.dot(v1, v2)}\")\n",
    "\n",
    "# Matrices\n",
    "A = np.array([[1, 2], [3, 4]])\n",
    "B = np.array([[5, 6], [7, 8]])\n",
    "\n",
    "print(\"\\nMatrix operations:\")\n",
    "print(f\"Matrix multiplication:\\n{np.dot(A, B)}\")\n",
    "print(f\"\\nTranspose of A:\\n{A.T}\")"
   ]
  },
  {
   "cell_type": "markdown",
   "metadata": {},
   "source": [
    "## 2. Calculus Basics\n",
    "\n",
    "Understanding derivatives and gradients:"
   ]
  },
  {
   "cell_type": "code",
   "execution_count": null,
   "metadata": {},
   "outputs": [],
   "source": [
    "import matplotlib.pyplot as plt\n",
    "import numpy as np\n",
    "\n",
    "# Create data for plotting\n",
    "x = np.linspace(-5, 5, 100)\n",
    "y = x**2  # Quadratic function\n",
    "dy = 2*x  # Derivative\n",
    "\n",
    "plt.figure(figsize=(10, 6))\n",
    "plt.plot(x, y, label='f(x) = x²')\n",
    "plt.plot(x, dy, label='f′(x) = 2x')\n",
    "plt.grid(True)\n",
    "plt.legend()\n",
    "plt.title('Function and its Derivative')\n",
    "plt.show()"
   ]
  },
  {
   "cell_type": "markdown",
   "metadata": {},
   "source": [
    "## 3. Statistics & Probability\n",
    "\n",
    "Essential concepts for ML:"
   ]
  },
  {
   "cell_type": "code",
   "execution_count": null,
   "metadata": {},
   "outputs": [],
   "source": [
    "import numpy as np\n",
    "from scipy import stats\n",
    "import matplotlib.pyplot as plt\n",
    "import seaborn as sns\n",
    "\n",
    "# Generate random data\n",
    "data = np.random.normal(0, 1, 1000)\n",
    "\n",
    "# Basic statistics\n",
    "print(f\"Mean: {np.mean(data):.2f}\")\n",
    "print(f\"Median: {np.median(data):.2f}\")\n",
    "print(f\"Standard deviation: {np.std(data):.2f}\")\n",
    "\n",
    "# Visualize distribution\n",
    "plt.figure(figsize=(10, 6))\n",
    "sns.histplot(data, kde=True)\n",
    "plt.title('Normal Distribution')\n",
    "plt.show()"
   ]
  }
 ],
 "metadata": {
  "kernelspec": {
   "display_name": "Python 3",
   "language": "python",
   "name": "python3"
  },
  "language_info": {
   "codemirror_mode": {
    "name": "ipython",
    "version": 3
   },
   "file_extension": ".py",
   "mimetype": "text/x-python",
   "name": "python",
   "nbconvert_exporter": "python",
   "pygments_lexer": "ipython3",
   "version": "3.12.6"
  }
 },
 "nbformat": 4,
 "nbformat_minor": 4
}
